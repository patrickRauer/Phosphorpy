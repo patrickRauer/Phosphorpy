{
 "cells": [
  {
   "cell_type": "code",
   "execution_count": 1,
   "metadata": {},
   "outputs": [
    {
     "name": "stderr",
     "output_type": "stream",
     "text": [
      "WARNING: AstropyDeprecationWarning: astropy.extern.six will be removed in 4.0, use the six module directly if it is still needed [astropy.extern.six]\n"
     ]
    }
   ],
   "source": [
    "from Phosphorpy import DataSet\n",
    "import numpy as np"
   ]
  },
  {
   "cell_type": "code",
   "execution_count": 2,
   "metadata": {},
   "outputs": [],
   "source": [
    "ds = DataSet.load_coordinates('/Users/patrickr/Documents/temp/comb_ra_lte_180.fits', 'fits','ra', 'dec')\n",
    "ds.load_from_vizier(['SDSS', '2MASS'])"
   ]
  },
  {
   "cell_type": "markdown",
   "metadata": {},
   "source": [
    "# Flux\n",
    "Phosphorpy provides a system to convert magnitudes to fluxes. Based on the flux zero points from [SVO](http://svo2.cab.inta-csic.es/svo/theory/fps3/index.php) the magnitudes are converted with respect to the used magnitude system (Vega or AB). To extract the necessary values the package **armapy** is used, which provides the opportunity to download filter bandpasses and the general filter information from [SVO](http://svo2.cab.inta-csic.es/svo/theory/fps3/index.php).<br>\n",
    "To get the fluxes of all filters use:"
   ]
  },
  {
   "cell_type": "code",
   "execution_count": 3,
   "metadata": {},
   "outputs": [],
   "source": [
    "fluxes = ds.flux.data"
   ]
  },
  {
   "cell_type": "markdown",
   "metadata": {},
   "source": [
    "and the fluxes parameter will contain a pandas DataFrame with the fluxes of the targets in the same order as coordinates or magnitudes. The labeling of the columns will be the same as for the magnitudes."
   ]
  },
  {
   "cell_type": "markdown",
   "metadata": {},
   "source": [
    "### Plotting\n",
    "The flux environment also provides a basic plotting system. In this case one can plot the SED.<br>\n",
    "For example, if the first SED of the data set should be plotted in a log-log environment"
   ]
  },
  {
   "cell_type": "code",
   "execution_count": 4,
   "metadata": {},
   "outputs": [
    {
     "data": {
      "image/png": "[encoded data removed]",
      "text/plain": [
       "<Figure size 432x288 with 1 Axes>"
      ]
     },
     "metadata": {
      "needs_background": "light"
     },
     "output_type": "display_data"
    }
   ],
   "source": [
    "ds.flux.plot.sed(1, x_log=True, y_log=True)"
   ]
  },
  {
   "cell_type": "markdown",
   "metadata": {},
   "source": [
    "\n",
    "As in all plotting functions there is the option to give a path string to store the resulting graph directly on ones machine.\n",
    "\n",
    "### Fitting\n",
    "The flux environment provides a system to fit the SED's. The fitting system has the advantage that it checks automatically if data are missing and fit's only the non NaN values.<br>\n",
    "At the moment it has two possibilities to fit the SED. The first one is a fit by a polynomial"
   ]
  },
  {
   "cell_type": "code",
   "execution_count": 5,
   "metadata": {},
   "outputs": [
    {
     "data": {
      "text/html": [
       "<div>\n",
       "<style scoped>\n",
       "    .dataframe tbody tr th:only-of-type {\n",
       "        vertical-align: middle;\n",
       "    }\n",
       "\n",
       "    .dataframe tbody tr th {\n",
       "        vertical-align: top;\n",
       "    }\n",
       "\n",
       "    .dataframe thead th {\n",
       "        text-align: right;\n",
       "    }\n",
       "</style>\n",
       "<table border=\"1\" class=\"dataframe\">\n",
       "  <thead>\n",
       "    <tr style=\"text-align: right;\">\n",
       "      <th></th>\n",
       "      <th>a</th>\n",
       "      <th>b</th>\n",
       "      <th>c</th>\n",
       "      <th>d</th>\n",
       "      <th>e</th>\n",
       "    </tr>\n",
       "  </thead>\n",
       "  <tbody>\n",
       "    <tr>\n",
       "      <td>1</td>\n",
       "      <td>-46.623054</td>\n",
       "      <td>733.619297</td>\n",
       "      <td>-4328.883092</td>\n",
       "      <td>11351.961849</td>\n",
       "      <td>-11177.727124</td>\n",
       "    </tr>\n",
       "    <tr>\n",
       "      <td>2</td>\n",
       "      <td>-41.370800</td>\n",
       "      <td>651.196488</td>\n",
       "      <td>-3843.728544</td>\n",
       "      <td>10082.202070</td>\n",
       "      <td>-9930.335327</td>\n",
       "    </tr>\n",
       "    <tr>\n",
       "      <td>3</td>\n",
       "      <td>-41.717332</td>\n",
       "      <td>658.645777</td>\n",
       "      <td>-3900.593758</td>\n",
       "      <td>10268.576531</td>\n",
       "      <td>-10154.307088</td>\n",
       "    </tr>\n",
       "    <tr>\n",
       "      <td>4</td>\n",
       "      <td>-31.537566</td>\n",
       "      <td>501.435547</td>\n",
       "      <td>-2990.777005</td>\n",
       "      <td>7929.834929</td>\n",
       "      <td>-7900.377867</td>\n",
       "    </tr>\n",
       "    <tr>\n",
       "      <td>5</td>\n",
       "      <td>-37.536985</td>\n",
       "      <td>591.408458</td>\n",
       "      <td>-3494.057726</td>\n",
       "      <td>9173.216647</td>\n",
       "      <td>-9044.204596</td>\n",
       "    </tr>\n",
       "    <tr>\n",
       "      <td>...</td>\n",
       "      <td>...</td>\n",
       "      <td>...</td>\n",
       "      <td>...</td>\n",
       "      <td>...</td>\n",
       "      <td>...</td>\n",
       "    </tr>\n",
       "    <tr>\n",
       "      <td>13557</td>\n",
       "      <td>-36.199599</td>\n",
       "      <td>570.667527</td>\n",
       "      <td>-3374.208532</td>\n",
       "      <td>8867.666862</td>\n",
       "      <td>-8754.640144</td>\n",
       "    </tr>\n",
       "    <tr>\n",
       "      <td>13558</td>\n",
       "      <td>-35.324727</td>\n",
       "      <td>558.530888</td>\n",
       "      <td>-3312.204648</td>\n",
       "      <td>8730.078710</td>\n",
       "      <td>-8643.785576</td>\n",
       "    </tr>\n",
       "    <tr>\n",
       "      <td>13559</td>\n",
       "      <td>-30.393473</td>\n",
       "      <td>484.873625</td>\n",
       "      <td>-2901.170994</td>\n",
       "      <td>7714.933610</td>\n",
       "      <td>-7707.423603</td>\n",
       "    </tr>\n",
       "    <tr>\n",
       "      <td>13560</td>\n",
       "      <td>-38.916592</td>\n",
       "      <td>611.689858</td>\n",
       "      <td>-3605.424703</td>\n",
       "      <td>9444.016989</td>\n",
       "      <td>-9290.117830</td>\n",
       "    </tr>\n",
       "    <tr>\n",
       "      <td>13561</td>\n",
       "      <td>-24.311663</td>\n",
       "      <td>385.814025</td>\n",
       "      <td>-2296.270627</td>\n",
       "      <td>6073.646342</td>\n",
       "      <td>-6038.408832</td>\n",
       "    </tr>\n",
       "  </tbody>\n",
       "</table>\n",
       "<p>13561 rows × 5 columns</p>\n",
       "</div>"
      ],
      "text/plain": [
       "               a           b            c             d             e\n",
       "1     -46.623054  733.619297 -4328.883092  11351.961849 -11177.727124\n",
       "2     -41.370800  651.196488 -3843.728544  10082.202070  -9930.335327\n",
       "3     -41.717332  658.645777 -3900.593758  10268.576531 -10154.307088\n",
       "4     -31.537566  501.435547 -2990.777005   7929.834929  -7900.377867\n",
       "5     -37.536985  591.408458 -3494.057726   9173.216647  -9044.204596\n",
       "...          ...         ...          ...           ...           ...\n",
       "13557 -36.199599  570.667527 -3374.208532   8867.666862  -8754.640144\n",
       "13558 -35.324727  558.530888 -3312.204648   8730.078710  -8643.785576\n",
       "13559 -30.393473  484.873625 -2901.170994   7714.933610  -7707.423603\n",
       "13560 -38.916592  611.689858 -3605.424703   9444.016989  -9290.117830\n",
       "13561 -24.311663  385.814025 -2296.270627   6073.646342  -6038.408832\n",
       "\n",
       "[13561 rows x 5 columns]"
      ]
     },
     "execution_count": 5,
     "metadata": {},
     "output_type": "execute_result"
    }
   ],
   "source": [
    "ds.flux.fit_polynomial(4, error_weighted=True, \n",
    "                       x_log=True, y_log=True, \n",
    "                       lower_limit=3500, upper_limit=20000)"
   ]
  },
  {
   "cell_type": "markdown",
   "metadata": {},
   "source": [
    "'4' is the degree of the polynomial, 'error_weighted' means that the inverse error is used as a weight for the fit. 'x_log' and 'y_log' have the same meaning as in the plotting case, and 'upper_limit' and 'lower_limit' are limits for the wavelength coverage. If no [astropy unit](http://docs.astropy.org/en/stable/units/) is given then they are taken as angstrom like in the case above."
   ]
  },
  {
   "cell_type": "markdown",
   "metadata": {},
   "source": [
    "The second option to fit the SED is more general. Instead of the usage of already implemented functions, the fitting function is given as a parameter. The style of the function is the same as the function [curve_fit](https://docs.scipy.org/doc/scipy/reference/generated/scipy.optimize.curve_fit.html) of the scipy package requires."
   ]
  },
  {
   "cell_type": "code",
   "execution_count": 6,
   "metadata": {},
   "outputs": [
    {
     "data": {
      "text/html": [
       "<div>\n",
       "<style scoped>\n",
       "    .dataframe tbody tr th:only-of-type {\n",
       "        vertical-align: middle;\n",
       "    }\n",
       "\n",
       "    .dataframe tbody tr th {\n",
       "        vertical-align: top;\n",
       "    }\n",
       "\n",
       "    .dataframe thead th {\n",
       "        text-align: right;\n",
       "    }\n",
       "</style>\n",
       "<table border=\"1\" class=\"dataframe\">\n",
       "  <thead>\n",
       "    <tr style=\"text-align: right;\">\n",
       "      <th></th>\n",
       "      <th>a</th>\n",
       "      <th>b</th>\n",
       "      <th>c</th>\n",
       "      <th>d</th>\n",
       "    </tr>\n",
       "  </thead>\n",
       "  <tbody>\n",
       "    <tr>\n",
       "      <td>1</td>\n",
       "      <td>-0.732213</td>\n",
       "      <td>-0.732213</td>\n",
       "      <td>-0.732213</td>\n",
       "      <td>-1.946794</td>\n",
       "    </tr>\n",
       "    <tr>\n",
       "      <td>2</td>\n",
       "      <td>-1.586122</td>\n",
       "      <td>-1.586122</td>\n",
       "      <td>-0.703275</td>\n",
       "      <td>-0.182668</td>\n",
       "    </tr>\n",
       "    <tr>\n",
       "      <td>3</td>\n",
       "      <td>-0.525108</td>\n",
       "      <td>-0.884023</td>\n",
       "      <td>-2.737084</td>\n",
       "      <td>0.022580</td>\n",
       "    </tr>\n",
       "    <tr>\n",
       "      <td>4</td>\n",
       "      <td>-1.326313</td>\n",
       "      <td>-1.326313</td>\n",
       "      <td>-0.645434</td>\n",
       "      <td>-0.649124</td>\n",
       "    </tr>\n",
       "    <tr>\n",
       "      <td>5</td>\n",
       "      <td>-1.936848</td>\n",
       "      <td>-1.936848</td>\n",
       "      <td>0.515907</td>\n",
       "      <td>-0.710470</td>\n",
       "    </tr>\n",
       "    <tr>\n",
       "      <td>...</td>\n",
       "      <td>...</td>\n",
       "      <td>...</td>\n",
       "      <td>...</td>\n",
       "      <td>...</td>\n",
       "    </tr>\n",
       "    <tr>\n",
       "      <td>13557</td>\n",
       "      <td>-2.069036</td>\n",
       "      <td>-2.069036</td>\n",
       "      <td>-0.288950</td>\n",
       "      <td>0.333608</td>\n",
       "    </tr>\n",
       "    <tr>\n",
       "      <td>13558</td>\n",
       "      <td>-0.292970</td>\n",
       "      <td>-0.292970</td>\n",
       "      <td>-0.506712</td>\n",
       "      <td>-3.063576</td>\n",
       "    </tr>\n",
       "    <tr>\n",
       "      <td>13559</td>\n",
       "      <td>-0.177273</td>\n",
       "      <td>-0.177273</td>\n",
       "      <td>-1.822169</td>\n",
       "      <td>-1.774176</td>\n",
       "    </tr>\n",
       "    <tr>\n",
       "      <td>13560</td>\n",
       "      <td>-1.323851</td>\n",
       "      <td>-1.323851</td>\n",
       "      <td>-0.439786</td>\n",
       "      <td>-0.892992</td>\n",
       "    </tr>\n",
       "    <tr>\n",
       "      <td>13561</td>\n",
       "      <td>-2.023593</td>\n",
       "      <td>-2.023593</td>\n",
       "      <td>-0.076104</td>\n",
       "      <td>-0.076104</td>\n",
       "    </tr>\n",
       "  </tbody>\n",
       "</table>\n",
       "<p>13561 rows × 4 columns</p>\n",
       "</div>"
      ],
      "text/plain": [
       "              a         b         c         d\n",
       "1     -0.732213 -0.732213 -0.732213 -1.946794\n",
       "2     -1.586122 -1.586122 -0.703275 -0.182668\n",
       "3     -0.525108 -0.884023 -2.737084  0.022580\n",
       "4     -1.326313 -1.326313 -0.645434 -0.649124\n",
       "5     -1.936848 -1.936848  0.515907 -0.710470\n",
       "...         ...       ...       ...       ...\n",
       "13557 -2.069036 -2.069036 -0.288950  0.333608\n",
       "13558 -0.292970 -0.292970 -0.506712 -3.063576\n",
       "13559 -0.177273 -0.177273 -1.822169 -1.774176\n",
       "13560 -1.323851 -1.323851 -0.439786 -0.892992\n",
       "13561 -2.023593 -2.023593 -0.076104 -0.076104\n",
       "\n",
       "[13561 rows x 4 columns]"
      ]
     },
     "execution_count": 6,
     "metadata": {},
     "output_type": "execute_result"
    }
   ],
   "source": [
    "def fit_function(wavelength, *parameters):\n",
    "    y = np.zeros(len(wavelength))\n",
    "    for p in parameters:\n",
    "        y += wavelength*p\n",
    "    return y\n",
    "\n",
    "zero_points = [0, 0, 0, 0]\n",
    "ds.flux.func_fit(fit_function, \n",
    "                 error_weighted=True, \n",
    "                      x_log=True, y_log=True, \n",
    "                      lower_limit=3500, upper_limit=20000,\n",
    "                      p0=zero_points)"
   ]
  },
  {
   "cell_type": "markdown",
   "metadata": {},
   "source": [
    "Note, that **func_fit** needs a function to fit with an explicit declaration of parameters or a list with zero-points. Otherwise **Phosphorpy** can not determine the number of parameters and will raise an error."
   ]
  },
  {
   "cell_type": "markdown",
   "metadata": {},
   "source": [
    "If the latest results are needed later again, they are can be accessed with"
   ]
  },
  {
   "cell_type": "code",
   "execution_count": 7,
   "metadata": {},
   "outputs": [
    {
     "data": {
      "text/html": [
       "<div>\n",
       "<style scoped>\n",
       "    .dataframe tbody tr th:only-of-type {\n",
       "        vertical-align: middle;\n",
       "    }\n",
       "\n",
       "    .dataframe tbody tr th {\n",
       "        vertical-align: top;\n",
       "    }\n",
       "\n",
       "    .dataframe thead th {\n",
       "        text-align: right;\n",
       "    }\n",
       "</style>\n",
       "<table border=\"1\" class=\"dataframe\">\n",
       "  <thead>\n",
       "    <tr style=\"text-align: right;\">\n",
       "      <th></th>\n",
       "      <th>a</th>\n",
       "      <th>b</th>\n",
       "      <th>c</th>\n",
       "      <th>d</th>\n",
       "    </tr>\n",
       "  </thead>\n",
       "  <tbody>\n",
       "    <tr>\n",
       "      <td>1</td>\n",
       "      <td>-0.732213</td>\n",
       "      <td>-0.732213</td>\n",
       "      <td>-0.732213</td>\n",
       "      <td>-1.946794</td>\n",
       "    </tr>\n",
       "    <tr>\n",
       "      <td>2</td>\n",
       "      <td>-1.586122</td>\n",
       "      <td>-1.586122</td>\n",
       "      <td>-0.703275</td>\n",
       "      <td>-0.182668</td>\n",
       "    </tr>\n",
       "    <tr>\n",
       "      <td>3</td>\n",
       "      <td>-0.525108</td>\n",
       "      <td>-0.884023</td>\n",
       "      <td>-2.737084</td>\n",
       "      <td>0.022580</td>\n",
       "    </tr>\n",
       "    <tr>\n",
       "      <td>4</td>\n",
       "      <td>-1.326313</td>\n",
       "      <td>-1.326313</td>\n",
       "      <td>-0.645434</td>\n",
       "      <td>-0.649124</td>\n",
       "    </tr>\n",
       "    <tr>\n",
       "      <td>5</td>\n",
       "      <td>-1.936848</td>\n",
       "      <td>-1.936848</td>\n",
       "      <td>0.515907</td>\n",
       "      <td>-0.710470</td>\n",
       "    </tr>\n",
       "    <tr>\n",
       "      <td>...</td>\n",
       "      <td>...</td>\n",
       "      <td>...</td>\n",
       "      <td>...</td>\n",
       "      <td>...</td>\n",
       "    </tr>\n",
       "    <tr>\n",
       "      <td>13557</td>\n",
       "      <td>-2.069036</td>\n",
       "      <td>-2.069036</td>\n",
       "      <td>-0.288950</td>\n",
       "      <td>0.333608</td>\n",
       "    </tr>\n",
       "    <tr>\n",
       "      <td>13558</td>\n",
       "      <td>-0.292970</td>\n",
       "      <td>-0.292970</td>\n",
       "      <td>-0.506712</td>\n",
       "      <td>-3.063576</td>\n",
       "    </tr>\n",
       "    <tr>\n",
       "      <td>13559</td>\n",
       "      <td>-0.177273</td>\n",
       "      <td>-0.177273</td>\n",
       "      <td>-1.822169</td>\n",
       "      <td>-1.774176</td>\n",
       "    </tr>\n",
       "    <tr>\n",
       "      <td>13560</td>\n",
       "      <td>-1.323851</td>\n",
       "      <td>-1.323851</td>\n",
       "      <td>-0.439786</td>\n",
       "      <td>-0.892992</td>\n",
       "    </tr>\n",
       "    <tr>\n",
       "      <td>13561</td>\n",
       "      <td>-2.023593</td>\n",
       "      <td>-2.023593</td>\n",
       "      <td>-0.076104</td>\n",
       "      <td>-0.076104</td>\n",
       "    </tr>\n",
       "  </tbody>\n",
       "</table>\n",
       "<p>13561 rows × 4 columns</p>\n",
       "</div>"
      ],
      "text/plain": [
       "              a         b         c         d\n",
       "1     -0.732213 -0.732213 -0.732213 -1.946794\n",
       "2     -1.586122 -1.586122 -0.703275 -0.182668\n",
       "3     -0.525108 -0.884023 -2.737084  0.022580\n",
       "4     -1.326313 -1.326313 -0.645434 -0.649124\n",
       "5     -1.936848 -1.936848  0.515907 -0.710470\n",
       "...         ...       ...       ...       ...\n",
       "13557 -2.069036 -2.069036 -0.288950  0.333608\n",
       "13558 -0.292970 -0.292970 -0.506712 -3.063576\n",
       "13559 -0.177273 -0.177273 -1.822169 -1.774176\n",
       "13560 -1.323851 -1.323851 -0.439786 -0.892992\n",
       "13561 -2.023593 -2.023593 -0.076104 -0.076104\n",
       "\n",
       "[13561 rows x 4 columns]"
      ]
     },
     "execution_count": 7,
     "metadata": {},
     "output_type": "execute_result"
    }
   ],
   "source": [
    "ds.flux.fit"
   ]
  },
  {
   "cell_type": "markdown",
   "metadata": {},
   "source": [
    "Previous results are not stored."
   ]
  },
  {
   "cell_type": "code",
   "execution_count": null,
   "metadata": {},
   "outputs": [],
   "source": []
  }
 ],
 "metadata": {
  "kernelspec": {
   "display_name": "Python 3",
   "language": "python",
   "name": "python3"
  },
  "language_info": {
   "codemirror_mode": {
    "name": "ipython",
    "version": 3
   },
   "file_extension": ".py",
   "mimetype": "text/x-python",
   "name": "python",
   "nbconvert_exporter": "python",
   "pygments_lexer": "ipython3",
   "version": "3.7.4"
  }
 },
 "nbformat": 4,
 "nbformat_minor": 4
}
